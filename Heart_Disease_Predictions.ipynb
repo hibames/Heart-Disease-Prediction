{
  "metadata": {
    "kernelspec": {
      "name": "python3",
      "display_name": "Python 3",
      "language": "python"
    },
    "language_info": {
      "name": "python",
      "version": "3.7.10",
      "mimetype": "text/x-python",
      "codemirror_mode": {
        "name": "ipython",
        "version": 3
      },
      "pygments_lexer": "ipython3",
      "nbconvert_exporter": "python",
      "file_extension": ".py"
    },
    "kaggle": {
      "accelerator": "none",
      "dataSources": [
        {
          "sourceId": 1471761,
          "sourceType": "datasetVersion",
          "datasetId": 863468
        }
      ],
      "dockerImageVersionId": 30120,
      "isInternetEnabled": false,
      "language": "python",
      "sourceType": "notebook",
      "isGpuEnabled": false
    },
    "colab": {
      "name": "Heart Disease Predictions",
      "provenance": [],
      "include_colab_link": true
    }
  },
  "nbformat_minor": 0,
  "nbformat": 4,
  "cells": [
    {
      "cell_type": "markdown",
      "metadata": {
        "id": "view-in-github",
        "colab_type": "text"
      },
      "source": [
        "<a href=\"https://colab.research.google.com/github/hibames/Heart-Disease-Prediction/blob/main/Heart_Disease_Predictions.ipynb\" target=\"_parent\"><img src=\"https://colab.research.google.com/assets/colab-badge.svg\" alt=\"Open In Colab\"/></a>"
      ]
    },
    {
      "source": [
        "# IMPORTANT: RUN THIS CELL IN ORDER TO IMPORT YOUR KAGGLE DATA SOURCES,\n",
        "# THEN FEEL FREE TO DELETE THIS CELL.\n",
        "# NOTE: THIS NOTEBOOK ENVIRONMENT DIFFERS FROM KAGGLE'S PYTHON\n",
        "# ENVIRONMENT SO THERE MAY BE MISSING LIBRARIES USED BY YOUR\n",
        "# NOTEBOOK.\n",
        "import kagglehub\n",
        "data855_heart_disease_path = kagglehub.dataset_download('data855/heart-disease')\n",
        "\n",
        "print('Data source import complete.')\n"
      ],
      "metadata": {
        "id": "KqyfiKOhrpaT"
      },
      "cell_type": "code",
      "outputs": [],
      "execution_count": null
    },
    {
      "cell_type": "code",
      "source": [
        "import pandas as pd\n",
        "import matplotlib.pyplot as plt\n",
        "import seaborn as sns\n",
        "from sklearn.model_selection import train_test_split\n",
        "from sklearn.preprocessing import StandardScaler\n",
        "from sklearn.impute import SimpleImputer\n",
        "from sklearn.pipeline import make_pipeline\n",
        "from sklearn.linear_model import LogisticRegression\n",
        "from sklearn.model_selection import GridSearchCV\n",
        "from sklearn.metrics import accuracy_score, confusion_matrix, classification_report\n",
        "import warnings\n",
        "warnings.filterwarnings('ignore')"
      ],
      "metadata": {
        "trusted": true,
        "execution": {
          "iopub.status.busy": "2025-05-08T18:53:58.460979Z",
          "iopub.execute_input": "2025-05-08T18:53:58.461335Z",
          "iopub.status.idle": "2025-05-08T18:53:58.992551Z",
          "shell.execute_reply.started": "2025-05-08T18:53:58.46124Z",
          "shell.execute_reply": "2025-05-08T18:53:58.99167Z"
        },
        "id": "e9ef3d80-75af-441c-a82d-721dec4c748c"
      },
      "outputs": [],
      "execution_count": null
    },
    {
      "cell_type": "code",
      "source": [
        "path = \"/kaggle/input/heart-disease/heart.csv\"\n",
        "df = pd.read_csv(path)"
      ],
      "metadata": {
        "trusted": true,
        "execution": {
          "iopub.status.busy": "2025-05-08T18:53:58.993887Z",
          "iopub.execute_input": "2025-05-08T18:53:58.994319Z",
          "iopub.status.idle": "2025-05-08T18:53:59.031153Z",
          "shell.execute_reply.started": "2025-05-08T18:53:58.994261Z",
          "shell.execute_reply": "2025-05-08T18:53:59.029968Z"
        },
        "id": "668a49fe-7f78-45e7-a9a3-293a7f449ec4"
      },
      "outputs": [],
      "execution_count": null
    },
    {
      "cell_type": "code",
      "source": [
        "df.shape"
      ],
      "metadata": {
        "trusted": true,
        "execution": {
          "iopub.status.busy": "2025-05-08T18:53:59.032797Z",
          "iopub.execute_input": "2025-05-08T18:53:59.033231Z",
          "iopub.status.idle": "2025-05-08T18:53:59.042653Z",
          "shell.execute_reply.started": "2025-05-08T18:53:59.033182Z",
          "shell.execute_reply": "2025-05-08T18:53:59.041178Z"
        },
        "id": "938e34cd-8a98-4c00-8dbc-398d57f2f616"
      },
      "outputs": [],
      "execution_count": null
    },
    {
      "cell_type": "code",
      "source": [
        "df.head()"
      ],
      "metadata": {
        "trusted": true,
        "execution": {
          "iopub.status.busy": "2025-05-08T18:53:59.044368Z",
          "iopub.execute_input": "2025-05-08T18:53:59.045047Z",
          "iopub.status.idle": "2025-05-08T18:53:59.082753Z",
          "shell.execute_reply.started": "2025-05-08T18:53:59.04499Z",
          "shell.execute_reply": "2025-05-08T18:53:59.081699Z"
        },
        "id": "3be41e43-c864-4a65-be1a-9e8ab380a44c"
      },
      "outputs": [],
      "execution_count": null
    },
    {
      "cell_type": "code",
      "source": [
        "df.info()"
      ],
      "metadata": {
        "trusted": true,
        "execution": {
          "iopub.status.busy": "2025-05-08T18:53:59.084137Z",
          "iopub.execute_input": "2025-05-08T18:53:59.084416Z",
          "iopub.status.idle": "2025-05-08T18:53:59.106052Z",
          "shell.execute_reply.started": "2025-05-08T18:53:59.084387Z",
          "shell.execute_reply": "2025-05-08T18:53:59.104822Z"
        },
        "id": "a9aeab27-779c-4be7-99e5-50537b6eb3e9"
      },
      "outputs": [],
      "execution_count": null
    },
    {
      "cell_type": "code",
      "source": [
        "df.describe().T"
      ],
      "metadata": {
        "trusted": true,
        "execution": {
          "iopub.status.busy": "2025-05-08T18:53:59.107497Z",
          "iopub.execute_input": "2025-05-08T18:53:59.107841Z",
          "iopub.status.idle": "2025-05-08T18:53:59.174989Z",
          "shell.execute_reply.started": "2025-05-08T18:53:59.107808Z",
          "shell.execute_reply": "2025-05-08T18:53:59.173759Z"
        },
        "id": "e08e1fcc-6322-4e9e-a364-bbd8de89c469"
      },
      "outputs": [],
      "execution_count": null
    },
    {
      "cell_type": "markdown",
      "source": [
        "# Handle Missing Values And Duplicates"
      ],
      "metadata": {
        "id": "7a32b639-a3d9-40fa-90e1-ed391f75b8de"
      }
    },
    {
      "cell_type": "code",
      "source": [
        "df.isnull().sum()"
      ],
      "metadata": {
        "trusted": true,
        "execution": {
          "iopub.status.busy": "2025-05-08T18:53:59.176345Z",
          "iopub.execute_input": "2025-05-08T18:53:59.176663Z",
          "iopub.status.idle": "2025-05-08T18:53:59.185907Z",
          "shell.execute_reply.started": "2025-05-08T18:53:59.176632Z",
          "shell.execute_reply": "2025-05-08T18:53:59.184787Z"
        },
        "id": "a6b84680-71e5-4bca-8365-22982530a412"
      },
      "outputs": [],
      "execution_count": null
    },
    {
      "cell_type": "code",
      "source": [
        "df.duplicated().sum()"
      ],
      "metadata": {
        "trusted": true,
        "execution": {
          "iopub.status.busy": "2025-05-08T18:53:59.187078Z",
          "iopub.execute_input": "2025-05-08T18:53:59.187412Z",
          "iopub.status.idle": "2025-05-08T18:53:59.205151Z",
          "shell.execute_reply.started": "2025-05-08T18:53:59.18738Z",
          "shell.execute_reply": "2025-05-08T18:53:59.204005Z"
        },
        "id": "525f09ae-3748-4b1e-8bf6-991af655f880"
      },
      "outputs": [],
      "execution_count": null
    },
    {
      "cell_type": "code",
      "source": [
        "df.drop_duplicates(inplace=True)"
      ],
      "metadata": {
        "trusted": true,
        "execution": {
          "iopub.status.busy": "2025-05-08T18:53:59.206767Z",
          "iopub.execute_input": "2025-05-08T18:53:59.2072Z",
          "iopub.status.idle": "2025-05-08T18:53:59.22286Z",
          "shell.execute_reply.started": "2025-05-08T18:53:59.207155Z",
          "shell.execute_reply": "2025-05-08T18:53:59.221629Z"
        },
        "id": "c6d3375a-033d-45cb-8d6c-16b547922e57"
      },
      "outputs": [],
      "execution_count": null
    },
    {
      "cell_type": "code",
      "source": [
        "df.duplicated().sum()"
      ],
      "metadata": {
        "trusted": true,
        "execution": {
          "iopub.status.busy": "2025-05-08T18:53:59.224401Z",
          "iopub.execute_input": "2025-05-08T18:53:59.224831Z",
          "iopub.status.idle": "2025-05-08T18:53:59.242769Z",
          "shell.execute_reply.started": "2025-05-08T18:53:59.224785Z",
          "shell.execute_reply": "2025-05-08T18:53:59.241344Z"
        },
        "id": "9f629612-b493-4349-a8c0-520d337c5486"
      },
      "outputs": [],
      "execution_count": null
    },
    {
      "cell_type": "code",
      "source": [
        "# Histogram for each feature\n",
        "df.hist(figsize=(12, 10), bins=30)\n",
        "plt.tight_layout()\n",
        "plt.show()"
      ],
      "metadata": {
        "trusted": true,
        "execution": {
          "iopub.status.busy": "2025-05-08T18:53:59.244323Z",
          "iopub.execute_input": "2025-05-08T18:53:59.244797Z",
          "iopub.status.idle": "2025-05-08T18:54:01.841969Z",
          "shell.execute_reply.started": "2025-05-08T18:53:59.244751Z",
          "shell.execute_reply": "2025-05-08T18:54:01.840827Z"
        },
        "id": "20c0a8d8-ccaf-4412-8916-ba0d320b3358"
      },
      "outputs": [],
      "execution_count": null
    },
    {
      "cell_type": "code",
      "source": [
        "# Boxplot for each feature\n",
        "plt.figure(figsize=(12, 6))\n",
        "sns.boxplot(data=df)\n",
        "plt.xticks(rotation=45)\n",
        "plt.show()"
      ],
      "metadata": {
        "trusted": true,
        "execution": {
          "iopub.status.busy": "2025-05-08T18:54:01.843269Z",
          "iopub.execute_input": "2025-05-08T18:54:01.843575Z",
          "iopub.status.idle": "2025-05-08T18:54:02.198186Z",
          "shell.execute_reply.started": "2025-05-08T18:54:01.843545Z",
          "shell.execute_reply": "2025-05-08T18:54:02.197067Z"
        },
        "id": "e490afbe-69fd-4809-8385-f42831e82566"
      },
      "outputs": [],
      "execution_count": null
    },
    {
      "cell_type": "markdown",
      "source": [
        "# Outlier Detection and Removal"
      ],
      "metadata": {
        "id": "8f5a87e5-ccdc-4479-b433-aacbd4a984b5"
      }
    },
    {
      "cell_type": "code",
      "source": [
        "rows_before_outliers = df.shape[0]\n",
        "rows_before_outliers"
      ],
      "metadata": {
        "trusted": true,
        "execution": {
          "iopub.status.busy": "2025-05-08T18:54:02.201852Z",
          "iopub.execute_input": "2025-05-08T18:54:02.202175Z",
          "iopub.status.idle": "2025-05-08T18:54:02.208978Z",
          "shell.execute_reply.started": "2025-05-08T18:54:02.202145Z",
          "shell.execute_reply": "2025-05-08T18:54:02.207565Z"
        },
        "id": "6740118b-17a9-436a-9f7e-7b6995568fd4"
      },
      "outputs": [],
      "execution_count": null
    },
    {
      "cell_type": "code",
      "source": [
        "#Z_Score\n",
        "for column in df.select_dtypes(include=['number']).columns:\n",
        "    # Define upper and lower limits\n",
        "    upper_limit = df[column].mean() + 3 * df[column].std()\n",
        "    lower_limit = df[column].mean() - 3 * df[column].std()\n",
        "\n",
        "    # Filter the DataFrame\n",
        "    df = df[(df[column] < upper_limit) & (df[column] > lower_limit)]"
      ],
      "metadata": {
        "trusted": true,
        "execution": {
          "iopub.status.busy": "2025-05-08T18:54:02.211415Z",
          "iopub.execute_input": "2025-05-08T18:54:02.211901Z",
          "iopub.status.idle": "2025-05-08T18:54:02.267571Z",
          "shell.execute_reply.started": "2025-05-08T18:54:02.211855Z",
          "shell.execute_reply": "2025-05-08T18:54:02.26629Z"
        },
        "id": "93d26d34-f7f8-4c5f-8696-5c5b51a420c2"
      },
      "outputs": [],
      "execution_count": null
    },
    {
      "cell_type": "code",
      "source": [
        "rows_after_outliers = df.shape[0]\n",
        "rows_after_outliers"
      ],
      "metadata": {
        "trusted": true,
        "execution": {
          "iopub.status.busy": "2025-05-08T18:54:02.269266Z",
          "iopub.execute_input": "2025-05-08T18:54:02.269588Z",
          "iopub.status.idle": "2025-05-08T18:54:02.276248Z",
          "shell.execute_reply.started": "2025-05-08T18:54:02.269558Z",
          "shell.execute_reply": "2025-05-08T18:54:02.274998Z"
        },
        "id": "c18b1ff1-8fcd-4031-84c6-670002475ea2"
      },
      "outputs": [],
      "execution_count": null
    },
    {
      "cell_type": "code",
      "source": [
        "outliers = rows_before_outliers - rows_after_outliers\n",
        "outliers"
      ],
      "metadata": {
        "trusted": true,
        "execution": {
          "iopub.status.busy": "2025-05-08T18:54:02.278031Z",
          "iopub.execute_input": "2025-05-08T18:54:02.278622Z",
          "iopub.status.idle": "2025-05-08T18:54:02.294995Z",
          "shell.execute_reply.started": "2025-05-08T18:54:02.278569Z",
          "shell.execute_reply": "2025-05-08T18:54:02.293877Z"
        },
        "id": "8747df4e-aa50-4e98-89cf-70d9312e22e9"
      },
      "outputs": [],
      "execution_count": null
    },
    {
      "cell_type": "code",
      "source": [
        "plt.figure(figsize=(12, 6))\n",
        "sns.boxplot(data=df)\n",
        "plt.xticks(rotation=45)\n",
        "plt.show()"
      ],
      "metadata": {
        "trusted": true,
        "execution": {
          "iopub.status.busy": "2025-05-08T18:54:02.2965Z",
          "iopub.execute_input": "2025-05-08T18:54:02.296974Z",
          "iopub.status.idle": "2025-05-08T18:54:02.851562Z",
          "shell.execute_reply.started": "2025-05-08T18:54:02.296923Z",
          "shell.execute_reply": "2025-05-08T18:54:02.850313Z"
        },
        "id": "f116406f-39cb-4e7f-aa32-7a5aa027142b"
      },
      "outputs": [],
      "execution_count": null
    },
    {
      "cell_type": "code",
      "source": [
        "# Count plot for the target variable\n",
        "plt.figure(figsize=(6, 4))\n",
        "sns.countplot(x='target', data=df)\n",
        "plt.title('Target Distribution')\n",
        "plt.show()"
      ],
      "metadata": {
        "trusted": true,
        "execution": {
          "iopub.status.busy": "2025-05-08T18:54:02.85316Z",
          "iopub.execute_input": "2025-05-08T18:54:02.853568Z",
          "iopub.status.idle": "2025-05-08T18:54:02.986956Z",
          "shell.execute_reply.started": "2025-05-08T18:54:02.853526Z",
          "shell.execute_reply": "2025-05-08T18:54:02.985613Z"
        },
        "id": "2b930cf2-555d-40f1-9038-d8043c5be71d"
      },
      "outputs": [],
      "execution_count": null
    },
    {
      "cell_type": "code",
      "source": [
        "corr = df.corr()\n",
        "corr"
      ],
      "metadata": {
        "trusted": true,
        "execution": {
          "iopub.status.busy": "2025-05-08T18:54:02.988504Z",
          "iopub.execute_input": "2025-05-08T18:54:02.988855Z",
          "iopub.status.idle": "2025-05-08T18:54:03.019505Z",
          "shell.execute_reply.started": "2025-05-08T18:54:02.988819Z",
          "shell.execute_reply": "2025-05-08T18:54:03.018395Z"
        },
        "id": "b493e820-782a-499c-a5dd-bdc78cdc1a5e"
      },
      "outputs": [],
      "execution_count": null
    },
    {
      "cell_type": "code",
      "source": [
        "# Correlation heatmap\n",
        "plt.figure(figsize=(10, 8))\n",
        "sns.heatmap(corr, annot=True, fmt=\".2f\", cmap='coolwarm')\n",
        "plt.title('Correlation Heatmap')\n",
        "plt.show()"
      ],
      "metadata": {
        "trusted": true,
        "execution": {
          "iopub.status.busy": "2025-05-08T18:54:03.020995Z",
          "iopub.execute_input": "2025-05-08T18:54:03.021334Z",
          "iopub.status.idle": "2025-05-08T18:54:04.198451Z",
          "shell.execute_reply.started": "2025-05-08T18:54:03.021299Z",
          "shell.execute_reply": "2025-05-08T18:54:04.197482Z"
        },
        "id": "43c6e280-eea8-4684-95c3-03393f7bf53d"
      },
      "outputs": [],
      "execution_count": null
    },
    {
      "cell_type": "code",
      "source": [
        "x = df.drop(['target'], axis=1)\n",
        "y = df.target"
      ],
      "metadata": {
        "trusted": true,
        "execution": {
          "iopub.status.busy": "2025-05-08T18:54:04.199746Z",
          "iopub.execute_input": "2025-05-08T18:54:04.200056Z",
          "iopub.status.idle": "2025-05-08T18:54:04.205869Z",
          "shell.execute_reply.started": "2025-05-08T18:54:04.200025Z",
          "shell.execute_reply": "2025-05-08T18:54:04.204585Z"
        },
        "id": "2ccacad3-a3a1-49b4-89b4-61083c6c2cfd"
      },
      "outputs": [],
      "execution_count": null
    },
    {
      "cell_type": "markdown",
      "source": [
        "# Scale Features"
      ],
      "metadata": {
        "id": "260efefe-be5c-452e-a91f-cb9399e84c9f"
      }
    },
    {
      "cell_type": "code",
      "source": [
        "sc = StandardScaler()\n",
        "x[['age', 'trestbps', 'chol', 'thalach', 'oldpeak', 'slope', 'ca', 'thal']] = sc.fit_transform(x[['age', 'trestbps', 'chol', 'thalach', 'oldpeak', 'slope', 'ca', 'thal']])"
      ],
      "metadata": {
        "trusted": true,
        "execution": {
          "iopub.status.busy": "2025-05-08T18:54:04.207422Z",
          "iopub.execute_input": "2025-05-08T18:54:04.208023Z",
          "iopub.status.idle": "2025-05-08T18:54:04.232789Z",
          "shell.execute_reply.started": "2025-05-08T18:54:04.207972Z",
          "shell.execute_reply": "2025-05-08T18:54:04.231651Z"
        },
        "id": "f627e957-57c5-43a0-aafa-bc7f2e323de9"
      },
      "outputs": [],
      "execution_count": null
    },
    {
      "cell_type": "code",
      "source": [
        "x"
      ],
      "metadata": {
        "trusted": true,
        "execution": {
          "iopub.status.busy": "2025-05-08T18:54:04.234445Z",
          "iopub.execute_input": "2025-05-08T18:54:04.234923Z",
          "iopub.status.idle": "2025-05-08T18:54:04.273625Z",
          "shell.execute_reply.started": "2025-05-08T18:54:04.234874Z",
          "shell.execute_reply": "2025-05-08T18:54:04.272392Z"
        },
        "id": "72fa9c06-1d01-4fa3-b5bd-e4b45c2ca5ad"
      },
      "outputs": [],
      "execution_count": null
    },
    {
      "cell_type": "markdown",
      "source": [
        "# Splitting Data"
      ],
      "metadata": {
        "id": "1997e195-5373-4304-bf3a-a8e39117b5bd"
      }
    },
    {
      "cell_type": "code",
      "source": [
        "x_train, x_test, y_train, y_test = train_test_split(x, y, test_size=0.3, random_state=42)"
      ],
      "metadata": {
        "trusted": true,
        "execution": {
          "iopub.status.busy": "2025-05-08T18:54:04.275538Z",
          "iopub.execute_input": "2025-05-08T18:54:04.275927Z",
          "iopub.status.idle": "2025-05-08T18:54:04.283427Z",
          "shell.execute_reply.started": "2025-05-08T18:54:04.275891Z",
          "shell.execute_reply": "2025-05-08T18:54:04.282171Z"
        },
        "id": "f868471c-b47b-4aa2-93d6-a20efccb915e"
      },
      "outputs": [],
      "execution_count": null
    },
    {
      "cell_type": "markdown",
      "source": [
        "# Model Training"
      ],
      "metadata": {
        "id": "23c01d91-f573-4911-81eb-5791783cec7f"
      }
    },
    {
      "cell_type": "code",
      "source": [
        "imuter = SimpleImputer(strategy='mean')"
      ],
      "metadata": {
        "trusted": true,
        "execution": {
          "iopub.status.busy": "2025-05-08T18:54:04.284827Z",
          "iopub.execute_input": "2025-05-08T18:54:04.285218Z",
          "iopub.status.idle": "2025-05-08T18:54:04.296497Z",
          "shell.execute_reply.started": "2025-05-08T18:54:04.285171Z",
          "shell.execute_reply": "2025-05-08T18:54:04.295361Z"
        },
        "id": "9e513098-baf7-4460-90ab-f566e934b9a1"
      },
      "outputs": [],
      "execution_count": null
    },
    {
      "cell_type": "code",
      "source": [
        "pipline = make_pipeline(imuter, LogisticRegression())"
      ],
      "metadata": {
        "trusted": true,
        "execution": {
          "iopub.status.busy": "2025-05-08T18:54:04.298085Z",
          "iopub.execute_input": "2025-05-08T18:54:04.298507Z",
          "iopub.status.idle": "2025-05-08T18:54:04.310302Z",
          "shell.execute_reply.started": "2025-05-08T18:54:04.29846Z",
          "shell.execute_reply": "2025-05-08T18:54:04.309245Z"
        },
        "id": "a85fc32b-6f0a-453a-a7da-ed303faf3e26"
      },
      "outputs": [],
      "execution_count": null
    },
    {
      "cell_type": "code",
      "source": [
        "params_grid = {\n",
        "    'logisticregression__C': [0.01, 0.1, 1, 10, 100],\n",
        "    'logisticregression__solver': ['liblinear', 'lbfgs'],\n",
        "    'logisticregression__penalty': ['l1', 'l2'],\n",
        "    'logisticregression__max_iter': [100, 200, 300]\n",
        "}"
      ],
      "metadata": {
        "trusted": true,
        "execution": {
          "iopub.status.busy": "2025-05-08T18:54:04.311681Z",
          "iopub.execute_input": "2025-05-08T18:54:04.312117Z",
          "iopub.status.idle": "2025-05-08T18:54:04.325505Z",
          "shell.execute_reply.started": "2025-05-08T18:54:04.312071Z",
          "shell.execute_reply": "2025-05-08T18:54:04.324384Z"
        },
        "id": "65caf36e-12f4-408e-8726-29cc0ed0cec1"
      },
      "outputs": [],
      "execution_count": null
    },
    {
      "cell_type": "code",
      "source": [
        "grid_search = GridSearchCV(pipline, params_grid, cv=5, scoring='accuracy')"
      ],
      "metadata": {
        "trusted": true,
        "execution": {
          "iopub.status.busy": "2025-05-08T18:54:04.326896Z",
          "iopub.execute_input": "2025-05-08T18:54:04.327225Z",
          "iopub.status.idle": "2025-05-08T18:54:04.339984Z",
          "shell.execute_reply.started": "2025-05-08T18:54:04.32719Z",
          "shell.execute_reply": "2025-05-08T18:54:04.338615Z"
        },
        "id": "2ca80d3b-419b-4dfc-a47e-ec3d26e18209"
      },
      "outputs": [],
      "execution_count": null
    },
    {
      "cell_type": "code",
      "source": [
        "grid_search.fit(x_train, y_train)"
      ],
      "metadata": {
        "trusted": true,
        "execution": {
          "iopub.status.busy": "2025-05-08T18:54:04.341595Z",
          "iopub.execute_input": "2025-05-08T18:54:04.341962Z",
          "iopub.status.idle": "2025-05-08T18:54:07.513788Z",
          "shell.execute_reply.started": "2025-05-08T18:54:04.34193Z",
          "shell.execute_reply": "2025-05-08T18:54:07.512663Z"
        },
        "id": "2d1793d4-0eed-43c8-a8b7-514ee5fa0a79"
      },
      "outputs": [],
      "execution_count": null
    },
    {
      "cell_type": "code",
      "source": [
        "model = grid_search.best_estimator_"
      ],
      "metadata": {
        "trusted": true,
        "execution": {
          "iopub.status.busy": "2025-05-08T18:54:07.515121Z",
          "iopub.execute_input": "2025-05-08T18:54:07.515402Z",
          "iopub.status.idle": "2025-05-08T18:54:07.519833Z",
          "shell.execute_reply.started": "2025-05-08T18:54:07.515376Z",
          "shell.execute_reply": "2025-05-08T18:54:07.518652Z"
        },
        "id": "2c9860a8-fd5c-4d3c-8294-f0595ee01f36"
      },
      "outputs": [],
      "execution_count": null
    },
    {
      "cell_type": "code",
      "source": [
        "y_pred = model.predict(x_test)"
      ],
      "metadata": {
        "trusted": true,
        "execution": {
          "iopub.status.busy": "2025-05-08T18:54:07.521143Z",
          "iopub.execute_input": "2025-05-08T18:54:07.52145Z",
          "iopub.status.idle": "2025-05-08T18:54:07.540392Z",
          "shell.execute_reply.started": "2025-05-08T18:54:07.52142Z",
          "shell.execute_reply": "2025-05-08T18:54:07.53911Z"
        },
        "id": "684f7657-0e4a-4f7e-af4c-ac3497a5371a"
      },
      "outputs": [],
      "execution_count": null
    },
    {
      "cell_type": "markdown",
      "source": [
        "# Model Evaluation"
      ],
      "metadata": {
        "id": "56f73357-251c-48dd-82b1-d6468893006f"
      }
    },
    {
      "cell_type": "code",
      "source": [
        "accuracy = accuracy_score(y_test, y_pred)\n",
        "conf_matrix = confusion_matrix(y_test, y_pred)\n",
        "class_report = classification_report(y_test, y_pred)"
      ],
      "metadata": {
        "trusted": true,
        "execution": {
          "iopub.status.busy": "2025-05-08T18:54:07.541853Z",
          "iopub.execute_input": "2025-05-08T18:54:07.5423Z",
          "iopub.status.idle": "2025-05-08T18:54:07.558125Z",
          "shell.execute_reply.started": "2025-05-08T18:54:07.542248Z",
          "shell.execute_reply": "2025-05-08T18:54:07.556966Z"
        },
        "id": "c356f7ca-02d0-44e0-961f-88d07d35a0cc"
      },
      "outputs": [],
      "execution_count": null
    },
    {
      "cell_type": "code",
      "source": [
        "print(f\"Accuracy: {accuracy:.2f}\")\n",
        "print(\"Confusion Matrix:\")\n",
        "print(conf_matrix)\n",
        "print(\"Classification Report:\")\n",
        "print(class_report)"
      ],
      "metadata": {
        "trusted": true,
        "execution": {
          "iopub.status.busy": "2025-05-08T18:54:07.55958Z",
          "iopub.execute_input": "2025-05-08T18:54:07.560008Z",
          "iopub.status.idle": "2025-05-08T18:54:07.573636Z",
          "shell.execute_reply.started": "2025-05-08T18:54:07.559961Z",
          "shell.execute_reply": "2025-05-08T18:54:07.572577Z"
        },
        "id": "b2c898d6-993b-45f5-9c9c-b2a690115950"
      },
      "outputs": [],
      "execution_count": null
    },
    {
      "cell_type": "code",
      "source": [
        "plt.figure(figsize=(8, 6))\n",
        "sns.heatmap(conf_matrix, annot=True,fmt='d', cmap='Blues',\n",
        "           xticklabels=['No Disease','Disease'],\n",
        "           yticklabels=['No Disease','Disease'])\n",
        "plt.ylabel(\"Actual\")\n",
        "plt.xlabel(\"Predicted\")\n",
        "plt.title('Confusion Matrix')\n",
        "plt.show()"
      ],
      "metadata": {
        "trusted": true,
        "execution": {
          "iopub.status.busy": "2025-05-08T18:54:07.575333Z",
          "iopub.execute_input": "2025-05-08T18:54:07.575692Z",
          "iopub.status.idle": "2025-05-08T18:54:07.782013Z",
          "shell.execute_reply.started": "2025-05-08T18:54:07.575659Z",
          "shell.execute_reply": "2025-05-08T18:54:07.780877Z"
        },
        "id": "308b95dc-5326-46c7-938a-d60cb146041e"
      },
      "outputs": [],
      "execution_count": null
    },
    {
      "cell_type": "code",
      "source": [],
      "metadata": {
        "trusted": true,
        "id": "13cc93b6-ea29-4bb0-bdbc-1833ebe64dad"
      },
      "outputs": [],
      "execution_count": null
    }
  ]
}